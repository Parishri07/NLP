{
 "cells": [
  {
   "cell_type": "code",
   "execution_count": 3,
   "id": "fe19b7fd-ac6b-4101-ab8d-744c587434c5",
   "metadata": {},
   "outputs": [],
   "source": [
    "paragraph = \"\"\"\n",
    "Avul Pakir Jainulabdeen Abdul Kalam BR (/ˈəbdʊl kəˈlɑːm/ ⓘ; 15 October 1931 – 27 July 2015) was an Indian aerospace scientist and statesman who served as the 11th president of India from 2002 to 2007. Born and raised in a Muslim family in Rameswaram, Tamil Nadu, he studied physics and aerospace engineering. He spent the next four decades as a scientist and science administrator, mainly at the Defence Research and Development Organisation (DRDO) and Indian Space Research Organisation (ISRO) and was intimately involved in India's civilian space programme and military missile development efforts.[1] He thus came to be known as the Missile Man of India for his work on the development of ballistic missile and launch vehicle technology.[2][3][4] He also played a pivotal organisational, technical, and political role in India's Pokhran-II nuclear tests in 1998, the first since the original nuclear test by India in 1974.[5]\n",
    "\"\"\""
   ]
  },
  {
   "cell_type": "code",
   "execution_count": 4,
   "id": "69fdd651-9ecb-433a-9914-98a419377dc3",
   "metadata": {},
   "outputs": [
    {
     "data": {
      "text/plain": [
       "\"\\nAvul Pakir Jainulabdeen Abdul Kalam BR (/ˈəbdʊl kəˈlɑːm/ ⓘ; 15 October 1931 – 27 July 2015) was an Indian aerospace scientist and statesman who served as the 11th president of India from 2002 to 2007. Born and raised in a Muslim family in Rameswaram, Tamil Nadu, he studied physics and aerospace engineering. He spent the next four decades as a scientist and science administrator, mainly at the Defence Research and Development Organisation (DRDO) and Indian Space Research Organisation (ISRO) and was intimately involved in India's civilian space programme and military missile development efforts.[1] He thus came to be known as the Missile Man of India for his work on the development of ballistic missile and launch vehicle technology.[2][3][4] He also played a pivotal organisational, technical, and political role in India's Pokhran-II nuclear tests in 1998, the first since the original nuclear test by India in 1974.[5]\\n\""
      ]
     },
     "execution_count": 4,
     "metadata": {},
     "output_type": "execute_result"
    }
   ],
   "source": [
    "paragraph"
   ]
  },
  {
   "cell_type": "code",
   "execution_count": 5,
   "id": "900366e4-e8a1-4b3e-a208-82752677a202",
   "metadata": {},
   "outputs": [],
   "source": [
    "import nltk"
   ]
  },
  {
   "cell_type": "code",
   "execution_count": 6,
   "id": "e58186ca-fe71-4026-92f2-ab0ec98b3d05",
   "metadata": {},
   "outputs": [],
   "source": [
    "from nltk.stem import PorterStemmer\n",
    "from nltk.corpus import stopwords"
   ]
  },
  {
   "cell_type": "markdown",
   "id": "3eaf43ff-9364-4f04-b9da-71a0ac8e0477",
   "metadata": {},
   "source": [
    "Toxenization - convert paragraph -> sentences -> words"
   ]
  },
  {
   "cell_type": "code",
   "execution_count": 7,
   "id": "28e0717f-1834-46cf-9b5f-8e31b87b2ed8",
   "metadata": {},
   "outputs": [
    {
     "name": "stderr",
     "output_type": "stream",
     "text": [
      "[nltk_data] Downloading package punkt to\n",
      "[nltk_data]     C:\\Users\\Parishri\\AppData\\Roaming\\nltk_data...\n",
      "[nltk_data]   Package punkt is already up-to-date!\n"
     ]
    }
   ],
   "source": [
    "nltk.download('punkt')\n",
    "sentences = nltk.sent_tokenize(paragraph)"
   ]
  },
  {
   "cell_type": "code",
   "execution_count": 8,
   "id": "64a3cb06-7459-48b6-b623-540c57d5023c",
   "metadata": {
    "scrolled": true
   },
   "outputs": [
    {
     "data": {
      "text/plain": [
       "['\\nAvul Pakir Jainulabdeen Abdul Kalam BR (/ˈəbdʊl kəˈlɑːm/ ⓘ; 15 October 1931 – 27 July 2015) was an Indian aerospace scientist and statesman who served as the 11th president of India from 2002 to 2007.',\n",
       " 'Born and raised in a Muslim family in Rameswaram, Tamil Nadu, he studied physics and aerospace engineering.',\n",
       " \"He spent the next four decades as a scientist and science administrator, mainly at the Defence Research and Development Organisation (DRDO) and Indian Space Research Organisation (ISRO) and was intimately involved in India's civilian space programme and military missile development efforts.\",\n",
       " '[1] He thus came to be known as the Missile Man of India for his work on the development of ballistic missile and launch vehicle technology.',\n",
       " \"[2][3][4] He also played a pivotal organisational, technical, and political role in India's Pokhran-II nuclear tests in 1998, the first since the original nuclear test by India in 1974.\",\n",
       " '[5]']"
      ]
     },
     "execution_count": 8,
     "metadata": {},
     "output_type": "execute_result"
    }
   ],
   "source": [
    "sentences"
   ]
  },
  {
   "cell_type": "code",
   "execution_count": 9,
   "id": "ad07e418-686c-42c2-89e0-616bdb7e4a2d",
   "metadata": {},
   "outputs": [
    {
     "data": {
      "text/plain": [
       "list"
      ]
     },
     "execution_count": 9,
     "metadata": {},
     "output_type": "execute_result"
    }
   ],
   "source": [
    "type(sentences)"
   ]
  },
  {
   "cell_type": "code",
   "execution_count": 10,
   "id": "4e717e85-e63c-4180-ad9f-131b5588fe21",
   "metadata": {},
   "outputs": [
    {
     "data": {
      "text/plain": [
       "6"
      ]
     },
     "execution_count": 10,
     "metadata": {},
     "output_type": "execute_result"
    }
   ],
   "source": [
    "len(sentences)"
   ]
  },
  {
   "cell_type": "markdown",
   "id": "72e7a7ac-ffeb-4a9b-ac22-80e0b3964584",
   "metadata": {},
   "source": [
    "Stemming"
   ]
  },
  {
   "cell_type": "code",
   "execution_count": 11,
   "id": "2481df2a-d312-4dc9-9b0f-a52b51495998",
   "metadata": {},
   "outputs": [],
   "source": [
    "stemmer = PorterStemmer()"
   ]
  },
  {
   "cell_type": "code",
   "execution_count": 12,
   "id": "80e68be7-8a63-4353-9fe7-9dec1503aa3e",
   "metadata": {},
   "outputs": [
    {
     "data": {
      "text/plain": [
       "'histori'"
      ]
     },
     "execution_count": 12,
     "metadata": {},
     "output_type": "execute_result"
    }
   ],
   "source": [
    "stemmer.stem('history')"
   ]
  },
  {
   "cell_type": "markdown",
   "id": "9b6e6a64-87a2-4f9e-b3f7-4e32fba188cf",
   "metadata": {},
   "source": [
    "Lemmatization"
   ]
  },
  {
   "cell_type": "code",
   "execution_count": 13,
   "id": "12ff7c2a-f0f3-48df-8027-1fdeef62a17a",
   "metadata": {},
   "outputs": [],
   "source": [
    "from nltk.stem import WordNetLemmatizer"
   ]
  },
  {
   "cell_type": "code",
   "execution_count": 14,
   "id": "d400b378-e4dc-4192-bf35-e1caf264f604",
   "metadata": {},
   "outputs": [
    {
     "name": "stderr",
     "output_type": "stream",
     "text": [
      "[nltk_data] Downloading package wordnet to\n",
      "[nltk_data]     C:\\Users\\Parishri\\AppData\\Roaming\\nltk_data...\n",
      "[nltk_data]   Package wordnet is already up-to-date!\n"
     ]
    },
    {
     "data": {
      "text/plain": [
       "True"
      ]
     },
     "execution_count": 14,
     "metadata": {},
     "output_type": "execute_result"
    }
   ],
   "source": [
    "nltk.download('wordnet')"
   ]
  },
  {
   "cell_type": "code",
   "execution_count": 15,
   "id": "baffb324-7abe-4d20-99f6-773ba1dc2880",
   "metadata": {},
   "outputs": [],
   "source": [
    "lemmatizer = WordNetLemmatizer()"
   ]
  },
  {
   "cell_type": "code",
   "execution_count": 16,
   "id": "01a735ba-6f9b-437b-86b4-82013850001f",
   "metadata": {},
   "outputs": [
    {
     "data": {
      "text/plain": [
       "'go'"
      ]
     },
     "execution_count": 16,
     "metadata": {},
     "output_type": "execute_result"
    }
   ],
   "source": [
    "lemmatizer.lemmatize('goes')"
   ]
  },
  {
   "cell_type": "markdown",
   "id": "a746e52a-8851-4dbb-ba1f-3f51b4a7fcc2",
   "metadata": {},
   "source": [
    "Removing special characters"
   ]
  },
  {
   "cell_type": "code",
   "execution_count": 17,
   "id": "20ed3728-0a58-405e-9692-cc3cbff25a86",
   "metadata": {},
   "outputs": [],
   "source": [
    "import re \n",
    "corpus = []\n",
    "for i in range(len(sentences)):\n",
    "    review = re.sub('[^a-zA-Z]',' ', sentences[i])\n",
    "    review = review.lower()\n",
    "    corpus.append(review)"
   ]
  },
  {
   "cell_type": "code",
   "execution_count": 18,
   "id": "73289d93-5a0c-481d-8693-1c2779828a32",
   "metadata": {},
   "outputs": [
    {
     "data": {
      "text/plain": [
       "[' avul pakir jainulabdeen abdul kalam br     bd l k  l  m        october           july       was an indian aerospace scientist and statesman who served as the   th president of india from      to      ',\n",
       " 'born and raised in a muslim family in rameswaram  tamil nadu  he studied physics and aerospace engineering ',\n",
       " 'he spent the next four decades as a scientist and science administrator  mainly at the defence research and development organisation  drdo  and indian space research organisation  isro  and was intimately involved in india s civilian space programme and military missile development efforts ',\n",
       " '    he thus came to be known as the missile man of india for his work on the development of ballistic missile and launch vehicle technology ',\n",
       " '          he also played a pivotal organisational  technical  and political role in india s pokhran ii nuclear tests in       the first since the original nuclear test by india in      ',\n",
       " '   ']"
      ]
     },
     "execution_count": 18,
     "metadata": {},
     "output_type": "execute_result"
    }
   ],
   "source": [
    "corpus"
   ]
  },
  {
   "cell_type": "markdown",
   "id": "2d5a0b80-28ed-4d3e-b965-ea6c113d6927",
   "metadata": {},
   "source": [
    "Stemming the text"
   ]
  },
  {
   "cell_type": "code",
   "execution_count": 19,
   "id": "326b94cf-5136-4725-8fd1-1e45d97f8619",
   "metadata": {},
   "outputs": [
    {
     "name": "stderr",
     "output_type": "stream",
     "text": [
      "[nltk_data] Downloading package stopwords to\n",
      "[nltk_data]     C:\\Users\\Parishri\\AppData\\Roaming\\nltk_data...\n",
      "[nltk_data]   Package stopwords is already up-to-date!\n"
     ]
    },
    {
     "data": {
      "text/plain": [
       "True"
      ]
     },
     "execution_count": 19,
     "metadata": {},
     "output_type": "execute_result"
    }
   ],
   "source": [
    "nltk.download('stopwords')"
   ]
  },
  {
   "cell_type": "code",
   "execution_count": 20,
   "id": "da16bc1f-43e8-4250-bcc5-cdd86d294b96",
   "metadata": {},
   "outputs": [
    {
     "name": "stdout",
     "output_type": "stream",
     "text": [
      "avul\n",
      "pakir\n",
      "jainulabdeen\n",
      "abdul\n",
      "kalam\n",
      "br\n",
      "bd\n",
      "l\n",
      "k\n",
      "l\n",
      "octob\n",
      "juli\n",
      "indian\n",
      "aerospac\n",
      "scientist\n",
      "statesman\n",
      "serv\n",
      "th\n",
      "presid\n",
      "india\n",
      "born\n",
      "rais\n",
      "muslim\n",
      "famili\n",
      "rameswaram\n",
      "tamil\n",
      "nadu\n",
      "studi\n",
      "physic\n",
      "aerospac\n",
      "engin\n",
      "spent\n",
      "next\n",
      "four\n",
      "decad\n",
      "scientist\n",
      "scienc\n",
      "administr\n",
      "mainli\n",
      "defenc\n",
      "research\n",
      "develop\n",
      "organis\n",
      "drdo\n",
      "indian\n",
      "space\n",
      "research\n",
      "organis\n",
      "isro\n",
      "intim\n",
      "involv\n",
      "india\n",
      "civilian\n",
      "space\n",
      "programm\n",
      "militari\n",
      "missil\n",
      "develop\n",
      "effort\n",
      "thu\n",
      "came\n",
      "known\n",
      "missil\n",
      "man\n",
      "india\n",
      "work\n",
      "develop\n",
      "ballist\n",
      "missil\n",
      "launch\n",
      "vehicl\n",
      "technolog\n",
      "also\n",
      "play\n",
      "pivot\n",
      "organis\n",
      "technic\n",
      "polit\n",
      "role\n",
      "india\n",
      "pokhran\n",
      "ii\n",
      "nuclear\n",
      "test\n",
      "first\n",
      "sinc\n",
      "origin\n",
      "nuclear\n",
      "test\n",
      "india\n"
     ]
    }
   ],
   "source": [
    "for i in corpus:\n",
    "    words = nltk.word_tokenize(i)\n",
    "    for word in words:\n",
    "        if word not in set(stopwords.words('english')):\n",
    "            print(stemmer.stem(word))"
   ]
  },
  {
   "cell_type": "markdown",
   "id": "203d3058-db58-4f29-97dd-b172167168c8",
   "metadata": {},
   "source": [
    "using Lemmatization"
   ]
  },
  {
   "cell_type": "code",
   "execution_count": 21,
   "id": "0fd6d528-a5f9-436a-bd50-58c344b9891e",
   "metadata": {},
   "outputs": [
    {
     "name": "stdout",
     "output_type": "stream",
     "text": [
      "avul\n",
      "pakir\n",
      "jainulabdeen\n",
      "abdul\n",
      "kalam\n",
      "br\n",
      "bd\n",
      "l\n",
      "k\n",
      "l\n",
      "october\n",
      "july\n",
      "indian\n",
      "aerospace\n",
      "scientist\n",
      "statesman\n",
      "served\n",
      "th\n",
      "president\n",
      "india\n",
      "born\n",
      "raised\n",
      "muslim\n",
      "family\n",
      "rameswaram\n",
      "tamil\n",
      "nadu\n",
      "studied\n",
      "physic\n",
      "aerospace\n",
      "engineering\n",
      "spent\n",
      "next\n",
      "four\n",
      "decade\n",
      "scientist\n",
      "science\n",
      "administrator\n",
      "mainly\n",
      "defence\n",
      "research\n",
      "development\n",
      "organisation\n",
      "drdo\n",
      "indian\n",
      "space\n",
      "research\n",
      "organisation\n",
      "isro\n",
      "intimately\n",
      "involved\n",
      "india\n",
      "civilian\n",
      "space\n",
      "programme\n",
      "military\n",
      "missile\n",
      "development\n",
      "effort\n",
      "thus\n",
      "came\n",
      "known\n",
      "missile\n",
      "man\n",
      "india\n",
      "work\n",
      "development\n",
      "ballistic\n",
      "missile\n",
      "launch\n",
      "vehicle\n",
      "technology\n",
      "also\n",
      "played\n",
      "pivotal\n",
      "organisational\n",
      "technical\n",
      "political\n",
      "role\n",
      "india\n",
      "pokhran\n",
      "ii\n",
      "nuclear\n",
      "test\n",
      "first\n",
      "since\n",
      "original\n",
      "nuclear\n",
      "test\n",
      "india\n"
     ]
    }
   ],
   "source": [
    "for i in corpus:\n",
    "    words = nltk.word_tokenize(i)\n",
    "    for word in words:\n",
    "        if word not in set(stopwords.words('english')):\n",
    "            print(lemmatizer.lemmatize(word))"
   ]
  },
  {
   "cell_type": "markdown",
   "id": "9a96b3f1-691a-4e46-ab60-277bbec0d080",
   "metadata": {},
   "source": [
    "Bag of words"
   ]
  },
  {
   "cell_type": "markdown",
   "id": "d22c1663-85b5-4f0c-9627-aa5ceab8eeee",
   "metadata": {},
   "source": [
    "Bag of Words"
   ]
  },
  {
   "cell_type": "code",
   "execution_count": 22,
   "id": "06d0d23b-547e-4090-adbb-f3c41780ae02",
   "metadata": {},
   "outputs": [],
   "source": [
    "## Apply stopwords\n",
    "\n",
    "import re \n",
    "corpus = []\n",
    "for i in range(len(sentences)):\n",
    "    review = re.sub('[^a-zA-Z]',' ', sentences[i])\n",
    "    review = review.lower()\n",
    "    review = review.split()\n",
    "    review = [lemmatizer.lemmatize(word) for word in review if not word in set(stopwords.words('english'))]\n",
    "    review = ' '.join(review)\n",
    "    corpus.append(review)"
   ]
  },
  {
   "cell_type": "code",
   "execution_count": 23,
   "id": "06d6a255-37a0-416a-b02d-caa32b8be167",
   "metadata": {},
   "outputs": [
    {
     "data": {
      "text/plain": [
       "['avul pakir jainulabdeen abdul kalam br bd l k l october july indian aerospace scientist statesman served th president india',\n",
       " 'born raised muslim family rameswaram tamil nadu studied physic aerospace engineering',\n",
       " 'spent next four decade scientist science administrator mainly defence research development organisation drdo indian space research organisation isro intimately involved india civilian space programme military missile development effort',\n",
       " 'thus came known missile man india work development ballistic missile launch vehicle technology',\n",
       " 'also played pivotal organisational technical political role india pokhran ii nuclear test first since original nuclear test india',\n",
       " '']"
      ]
     },
     "execution_count": 23,
     "metadata": {},
     "output_type": "execute_result"
    }
   ],
   "source": [
    "corpus"
   ]
  },
  {
   "cell_type": "markdown",
   "id": "d54afe61-a831-4765-b57f-a6fc5d619385",
   "metadata": {},
   "source": [
    "Bag of words"
   ]
  },
  {
   "cell_type": "code",
   "execution_count": 34,
   "id": "4e38527c-cefd-4948-b583-b8f02176110c",
   "metadata": {},
   "outputs": [],
   "source": [
    "from sklearn.feature_extraction.text import CountVectorizer\n",
    "cv = CountVectorizer(binary=True, ngram_range=(2,3))"
   ]
  },
  {
   "cell_type": "code",
   "execution_count": 35,
   "id": "8247fffe-c6c1-45ee-adca-61239c92f641",
   "metadata": {},
   "outputs": [],
   "source": [
    "X = cv.fit_transform(corpus)"
   ]
  },
  {
   "cell_type": "code",
   "execution_count": 36,
   "id": "6d9a0f89-ec67-41a9-9437-4eef4211b3de",
   "metadata": {},
   "outputs": [
    {
     "data": {
      "text/plain": [
       "{'avul pakir': 9,\n",
       " 'pakir jainulabdeen': 99,\n",
       " 'jainulabdeen abdul': 58,\n",
       " 'abdul kalam': 0,\n",
       " 'kalam br': 62,\n",
       " 'br bd': 17,\n",
       " 'bd october': 13,\n",
       " 'october july': 89,\n",
       " 'july indian': 60,\n",
       " 'indian aerospace': 48,\n",
       " 'aerospace scientist': 5,\n",
       " 'scientist statesman': 128,\n",
       " 'statesman served': 140,\n",
       " 'served th': 130,\n",
       " 'th president': 151,\n",
       " 'president india': 111,\n",
       " 'avul pakir jainulabdeen': 10,\n",
       " 'pakir jainulabdeen abdul': 100,\n",
       " 'jainulabdeen abdul kalam': 59,\n",
       " 'abdul kalam br': 1,\n",
       " 'kalam br bd': 63,\n",
       " 'br bd october': 18,\n",
       " 'bd october july': 14,\n",
       " 'october july indian': 90,\n",
       " 'july indian aerospace': 61,\n",
       " 'indian aerospace scientist': 49,\n",
       " 'aerospace scientist statesman': 6,\n",
       " 'scientist statesman served': 129,\n",
       " 'statesman served th': 141,\n",
       " 'served th president': 131,\n",
       " 'th president india': 152,\n",
       " 'born raised': 15,\n",
       " 'raised muslim': 114,\n",
       " 'muslim family': 80,\n",
       " 'family rameswaram': 34,\n",
       " 'rameswaram tamil': 116,\n",
       " 'tamil nadu': 144,\n",
       " 'nadu studied': 82,\n",
       " 'studied physic': 142,\n",
       " 'physic aerospace': 101,\n",
       " 'aerospace engineering': 4,\n",
       " 'born raised muslim': 16,\n",
       " 'raised muslim family': 115,\n",
       " 'muslim family rameswaram': 81,\n",
       " 'family rameswaram tamil': 35,\n",
       " 'rameswaram tamil nadu': 117,\n",
       " 'tamil nadu studied': 145,\n",
       " 'nadu studied physic': 83,\n",
       " 'studied physic aerospace': 143,\n",
       " 'physic aerospace engineering': 102,\n",
       " 'spent next': 138,\n",
       " 'next four': 84,\n",
       " 'four decade': 38,\n",
       " 'decade scientist': 23,\n",
       " 'scientist science': 126,\n",
       " 'science administrator': 124,\n",
       " 'administrator mainly': 2,\n",
       " 'mainly defence': 68,\n",
       " 'defence research': 25,\n",
       " 'research development': 118,\n",
       " 'development organisation': 30,\n",
       " 'organisation drdo': 91,\n",
       " 'drdo indian': 32,\n",
       " 'indian space': 50,\n",
       " 'space research': 136,\n",
       " 'research organisation': 120,\n",
       " 'organisation isro': 93,\n",
       " 'isro intimately': 56,\n",
       " 'intimately involved': 52,\n",
       " 'involved india': 54,\n",
       " 'india civilian': 42,\n",
       " 'civilian space': 21,\n",
       " 'space programme': 134,\n",
       " 'programme military': 112,\n",
       " 'military missile': 72,\n",
       " 'missile development': 74,\n",
       " 'development effort': 29,\n",
       " 'spent next four': 139,\n",
       " 'next four decade': 85,\n",
       " 'four decade scientist': 39,\n",
       " 'decade scientist science': 24,\n",
       " 'scientist science administrator': 127,\n",
       " 'science administrator mainly': 125,\n",
       " 'administrator mainly defence': 3,\n",
       " 'mainly defence research': 69,\n",
       " 'defence research development': 26,\n",
       " 'research development organisation': 119,\n",
       " 'development organisation drdo': 31,\n",
       " 'organisation drdo indian': 92,\n",
       " 'drdo indian space': 33,\n",
       " 'indian space research': 51,\n",
       " 'space research organisation': 137,\n",
       " 'research organisation isro': 121,\n",
       " 'organisation isro intimately': 94,\n",
       " 'isro intimately involved': 57,\n",
       " 'intimately involved india': 53,\n",
       " 'involved india civilian': 55,\n",
       " 'india civilian space': 43,\n",
       " 'civilian space programme': 22,\n",
       " 'space programme military': 135,\n",
       " 'programme military missile': 113,\n",
       " 'military missile development': 73,\n",
       " 'missile development effort': 75,\n",
       " 'thus came': 153,\n",
       " 'came known': 19,\n",
       " 'known missile': 64,\n",
       " 'missile man': 78,\n",
       " 'man india': 70,\n",
       " 'india work': 46,\n",
       " 'work development': 156,\n",
       " 'development ballistic': 27,\n",
       " 'ballistic missile': 11,\n",
       " 'missile launch': 76,\n",
       " 'launch vehicle': 66,\n",
       " 'vehicle technology': 155,\n",
       " 'thus came known': 154,\n",
       " 'came known missile': 20,\n",
       " 'known missile man': 65,\n",
       " 'missile man india': 79,\n",
       " 'man india work': 71,\n",
       " 'india work development': 47,\n",
       " 'work development ballistic': 157,\n",
       " 'development ballistic missile': 28,\n",
       " 'ballistic missile launch': 12,\n",
       " 'missile launch vehicle': 77,\n",
       " 'launch vehicle technology': 67,\n",
       " 'also played': 7,\n",
       " 'played pivotal': 105,\n",
       " 'pivotal organisational': 103,\n",
       " 'organisational technical': 95,\n",
       " 'technical political': 146,\n",
       " 'political role': 109,\n",
       " 'role india': 122,\n",
       " 'india pokhran': 44,\n",
       " 'pokhran ii': 107,\n",
       " 'ii nuclear': 40,\n",
       " 'nuclear test': 86,\n",
       " 'test first': 148,\n",
       " 'first since': 36,\n",
       " 'since original': 132,\n",
       " 'original nuclear': 97,\n",
       " 'test india': 150,\n",
       " 'also played pivotal': 8,\n",
       " 'played pivotal organisational': 106,\n",
       " 'pivotal organisational technical': 104,\n",
       " 'organisational technical political': 96,\n",
       " 'technical political role': 147,\n",
       " 'political role india': 110,\n",
       " 'role india pokhran': 123,\n",
       " 'india pokhran ii': 45,\n",
       " 'pokhran ii nuclear': 108,\n",
       " 'ii nuclear test': 41,\n",
       " 'nuclear test first': 87,\n",
       " 'test first since': 149,\n",
       " 'first since original': 37,\n",
       " 'since original nuclear': 133,\n",
       " 'original nuclear test': 98,\n",
       " 'nuclear test india': 88}"
      ]
     },
     "execution_count": 36,
     "metadata": {},
     "output_type": "execute_result"
    }
   ],
   "source": [
    "cv.vocabulary_"
   ]
  },
  {
   "cell_type": "code",
   "execution_count": 32,
   "id": "47f3ceef-ff54-4860-a375-e4766b0195a0",
   "metadata": {},
   "outputs": [
    {
     "data": {
      "text/plain": [
       "'avul pakir jainulabdeen abdul kalam br bd l k l october july indian aerospace scientist statesman served th president india'"
      ]
     },
     "execution_count": 32,
     "metadata": {},
     "output_type": "execute_result"
    }
   ],
   "source": [
    "corpus[0]"
   ]
  },
  {
   "cell_type": "code",
   "execution_count": 33,
   "id": "7e9da5f7-1c43-4527-b74b-ee233b428524",
   "metadata": {},
   "outputs": [
    {
     "data": {
      "text/plain": [
       "array([[1, 0, 1, 0, 1, 0, 1, 0, 1, 0, 0, 0, 0, 0, 0, 0, 0, 0, 0, 0, 0, 0,\n",
       "        0, 1, 0, 0, 0, 0, 1, 1, 1, 0, 0, 0, 0, 0, 0, 0, 0, 0, 0, 0, 0, 0,\n",
       "        1, 0, 0, 0, 0, 1, 0, 0, 0, 0, 0, 0, 0, 0, 0, 0, 0, 0, 0, 1, 1, 0,\n",
       "        0, 0, 0, 1, 0, 0, 0, 0, 1, 0, 0]], dtype=int64)"
      ]
     },
     "execution_count": 33,
     "metadata": {},
     "output_type": "execute_result"
    }
   ],
   "source": [
    "X[0].toarray()"
   ]
  },
  {
   "cell_type": "markdown",
   "id": "dc3a62bf-884c-42bb-9310-c4533015ccd2",
   "metadata": {},
   "source": [
    "TF-IDF"
   ]
  },
  {
   "cell_type": "code",
   "execution_count": 43,
   "id": "688d6d86-84f9-4bde-b912-83b93b6b5588",
   "metadata": {},
   "outputs": [],
   "source": [
    "from sklearn.feature_extraction.text import TfidfVectorizer\n",
    "cv = TfidfVectorizer(ngram_range=(3,3), max_features=3)\n",
    "X = cv.fit_transform(corpus)"
   ]
  },
  {
   "cell_type": "code",
   "execution_count": 44,
   "id": "2ae847b8-feed-498a-8f48-1f59dfb2c8d1",
   "metadata": {},
   "outputs": [
    {
     "data": {
      "text/plain": [
       "'avul pakir jainulabdeen abdul kalam br bd l k l october july indian aerospace scientist statesman served th president india'"
      ]
     },
     "execution_count": 44,
     "metadata": {},
     "output_type": "execute_result"
    }
   ],
   "source": [
    "corpus[0]"
   ]
  },
  {
   "cell_type": "code",
   "execution_count": 45,
   "id": "8e4a7dfc-878a-4133-ae7a-4ac5e9068b75",
   "metadata": {},
   "outputs": [
    {
     "data": {
      "text/plain": [
       "array([[1., 0., 0.]])"
      ]
     },
     "execution_count": 45,
     "metadata": {},
     "output_type": "execute_result"
    }
   ],
   "source": [
    "X[0].toarray()"
   ]
  }
 ],
 "metadata": {
  "kernelspec": {
   "display_name": "Python 3 (ipykernel)",
   "language": "python",
   "name": "python3"
  },
  "language_info": {
   "codemirror_mode": {
    "name": "ipython",
    "version": 3
   },
   "file_extension": ".py",
   "mimetype": "text/x-python",
   "name": "python",
   "nbconvert_exporter": "python",
   "pygments_lexer": "ipython3",
   "version": "3.11.4"
  }
 },
 "nbformat": 4,
 "nbformat_minor": 5
}
